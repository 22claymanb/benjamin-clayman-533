{
 "cells": [
  {
   "cell_type": "code",
   "execution_count": 1,
   "metadata": {
    "collapsed": true
   },
   "outputs": [
    {
     "name": "stdout",
     "output_type": "stream",
     "text": [
      "      trade_id     date asset   trip action type     price     status\n",
      "0            1   1/3/20   IVV  ENTER    BUY  LMT  323.0600  SUBMITTED\n",
      "1            1   1/3/20   IVV  ENTER    BUY  LMT  323.0600     FILLED\n",
      "2            1   1/3/20   IVV   EXIT   SELL  LMT  326.2906  SUBMITTED\n",
      "3            1   1/8/20   IVV   EXIT   SELL  LMT  326.2906     FILLED\n",
      "4            2   1/6/20   IVV  ENTER    BUY  LMT  320.5700  SUBMITTED\n",
      "...        ...      ...   ...    ...    ...  ...       ...        ...\n",
      "2606       810  3/22/23   IVV  ENTER    BUY  LMT  398.2100  SUBMITTED\n",
      "2607       810  3/22/23   IVV  ENTER    BUY  LMT  398.2100     FILLED\n",
      "2608       810  3/22/23   IVV   EXIT   SELL  LMT  402.1921  SUBMITTED\n",
      "2609       810  3/23/23   IVV   EXIT   SELL  LMT  402.1921       LIVE\n",
      "2610       811  3/23/23   IVV  ENTER    BUY  LMT  391.5400       LIVE\n",
      "\n",
      "[2611 rows x 8 columns]\n"
     ]
    }
   ],
   "source": [
    "import sklearn.model_selection\n",
    "import pandas as pd\n",
    "import numpy as np\n",
    "import math\n",
    "\n",
    "from hw3_traitors import *\n",
    "\n",
    "blotter = pd.read_csv('blotter.csv')\n",
    "print(blotter)"
   ]
  },
  {
   "cell_type": "code",
   "execution_count": 2,
   "metadata": {
    "collapsed": false
   },
   "outputs": [
    {
     "name": "stderr",
     "output_type": "stream",
     "text": [
      "/Users/benclayman/Documents/benjamin-clayman-533/HW3/hw3_traitors.py:6: UserWarning: Could not infer format, so each element will be parsed individually, falling back to `dateutil`. To ensure parsing is consistent and as-expected, please specify a format.\n",
      "  blotter['date'] = pd.to_datetime(blotter['date'])\n"
     ]
    },
    {
     "name": "stdout",
     "output_type": "stream",
     "text": [
      "    trade_id asset   dt_enter    dt_exit success    n       rtn\n",
      "0          1   IVV 2020-01-03 2020-01-08       1    6  0.001658\n",
      "1          2   IVV 2020-01-06 2020-01-08       0    3  0.000000\n",
      "2          3   IVV 2020-01-07 2020-01-09       0    3  0.000000\n",
      "3          4   IVV 2020-01-08 2020-01-10       0    3  0.000000\n",
      "4          5   IVV 2020-01-09 2020-01-13       0    5  0.000000\n",
      "..       ...   ...        ...        ...     ...  ...       ...\n",
      "806      807   IVV 2023-03-17 2023-03-21       1    5  0.001990\n",
      "807      808   IVV 2023-03-20 2023-03-22       0    3  0.000000\n",
      "808      809   IVV 2023-03-21        NaT     NaN  NaN       NaN\n",
      "809      810   IVV 2023-03-22        NaT     NaN  NaN       NaN\n",
      "810      811   IVV 2023-03-23        NaT     NaN  NaN       NaN\n",
      "\n",
      "[811 rows x 7 columns]\n"
     ]
    }
   ],
   "source": [
    "ledger = blotter_to_ledger(blotter)\n",
    "print(ledger)"
   ]
  },
  {
   "cell_type": "code",
   "execution_count": 3,
   "metadata": {
    "collapsed": false
   },
   "outputs": [
    {
     "name": "stderr",
     "output_type": "stream",
     "text": [
      "/var/folders/pp/nyzsgs116bd833r1yw537x5w0000gn/T/ipykernel_56532/4093259442.py:4: UserWarning: Could not infer format, so each element will be parsed individually, falling back to `dateutil`. To ensure parsing is consistent and as-expected, please specify a format.\n",
      "  features['Date'] = pd.to_datetime(features['Date'])\n"
     ]
    },
    {
     "data": {
      "text/plain": "        Date  1 Mo  2 Mo  3 Mo  4 Mo  6 Mo  1 Yr  2 Yr  3 Yr  5 Yr  7 Yr   \n0 2023-03-29  4.34  4.50  4.80  4.91  4.92  4.59  4.08  3.87  3.67  3.62  \\\n1 2023-03-28  4.24  4.39  4.80  4.86  4.90  4.55  4.02  3.84  3.63  3.60   \n2 2023-03-27  4.22  4.47  4.91  4.90  4.86  4.51  3.94  3.79  3.59  3.57   \n3 2023-03-24  4.28  4.48  4.74  4.78  4.76  4.32  3.76  3.58  3.41  3.40   \n4 2023-03-23  4.26  4.48  4.73  4.84  4.80  4.38  3.76  3.57  3.39  3.39   \n5 2023-03-22  4.16  4.56  4.79  4.91  4.95  4.56  3.96  3.76  3.54  3.53   \n6 2023-03-21  4.07  4.50  4.78  4.89  4.96  4.68  4.17  3.98  3.73  3.68   \n7 2023-03-20  4.34  4.56  4.81  4.84  4.80  4.34  3.92  3.77  3.56  3.55   \n8 2023-03-17  4.31  4.51  4.52  4.79  4.71  4.26  3.81  3.68  3.44  3.45   \n9 2023-03-16  4.22  4.66  4.74  4.92  4.94  4.49  4.14  3.99  3.72  3.67   \n\n   10 Yr  20 Yr  30 Yr       Open  \n0   3.57   3.91   3.78  19.389999  \n1   3.55   3.90   3.77  20.530001  \n2   3.53   3.90   3.77  22.049999  \n3   3.38   3.77   3.64  22.110001  \n4   3.38   3.78   3.66  21.540001  \n5   3.48   3.83   3.68  21.799999  \n6   3.59   3.90   3.73  24.160000  \n7   3.47   3.83   3.65  27.770000  \n8   3.39   3.76   3.60  22.920000  \n9   3.56   3.87   3.71  26.190001  ",
      "text/html": "<div>\n<style scoped>\n    .dataframe tbody tr th:only-of-type {\n        vertical-align: middle;\n    }\n\n    .dataframe tbody tr th {\n        vertical-align: top;\n    }\n\n    .dataframe thead th {\n        text-align: right;\n    }\n</style>\n<table border=\"1\" class=\"dataframe\">\n  <thead>\n    <tr style=\"text-align: right;\">\n      <th></th>\n      <th>Date</th>\n      <th>1 Mo</th>\n      <th>2 Mo</th>\n      <th>3 Mo</th>\n      <th>4 Mo</th>\n      <th>6 Mo</th>\n      <th>1 Yr</th>\n      <th>2 Yr</th>\n      <th>3 Yr</th>\n      <th>5 Yr</th>\n      <th>7 Yr</th>\n      <th>10 Yr</th>\n      <th>20 Yr</th>\n      <th>30 Yr</th>\n      <th>Open</th>\n    </tr>\n  </thead>\n  <tbody>\n    <tr>\n      <th>0</th>\n      <td>2023-03-29</td>\n      <td>4.34</td>\n      <td>4.50</td>\n      <td>4.80</td>\n      <td>4.91</td>\n      <td>4.92</td>\n      <td>4.59</td>\n      <td>4.08</td>\n      <td>3.87</td>\n      <td>3.67</td>\n      <td>3.62</td>\n      <td>3.57</td>\n      <td>3.91</td>\n      <td>3.78</td>\n      <td>19.389999</td>\n    </tr>\n    <tr>\n      <th>1</th>\n      <td>2023-03-28</td>\n      <td>4.24</td>\n      <td>4.39</td>\n      <td>4.80</td>\n      <td>4.86</td>\n      <td>4.90</td>\n      <td>4.55</td>\n      <td>4.02</td>\n      <td>3.84</td>\n      <td>3.63</td>\n      <td>3.60</td>\n      <td>3.55</td>\n      <td>3.90</td>\n      <td>3.77</td>\n      <td>20.530001</td>\n    </tr>\n    <tr>\n      <th>2</th>\n      <td>2023-03-27</td>\n      <td>4.22</td>\n      <td>4.47</td>\n      <td>4.91</td>\n      <td>4.90</td>\n      <td>4.86</td>\n      <td>4.51</td>\n      <td>3.94</td>\n      <td>3.79</td>\n      <td>3.59</td>\n      <td>3.57</td>\n      <td>3.53</td>\n      <td>3.90</td>\n      <td>3.77</td>\n      <td>22.049999</td>\n    </tr>\n    <tr>\n      <th>3</th>\n      <td>2023-03-24</td>\n      <td>4.28</td>\n      <td>4.48</td>\n      <td>4.74</td>\n      <td>4.78</td>\n      <td>4.76</td>\n      <td>4.32</td>\n      <td>3.76</td>\n      <td>3.58</td>\n      <td>3.41</td>\n      <td>3.40</td>\n      <td>3.38</td>\n      <td>3.77</td>\n      <td>3.64</td>\n      <td>22.110001</td>\n    </tr>\n    <tr>\n      <th>4</th>\n      <td>2023-03-23</td>\n      <td>4.26</td>\n      <td>4.48</td>\n      <td>4.73</td>\n      <td>4.84</td>\n      <td>4.80</td>\n      <td>4.38</td>\n      <td>3.76</td>\n      <td>3.57</td>\n      <td>3.39</td>\n      <td>3.39</td>\n      <td>3.38</td>\n      <td>3.78</td>\n      <td>3.66</td>\n      <td>21.540001</td>\n    </tr>\n    <tr>\n      <th>5</th>\n      <td>2023-03-22</td>\n      <td>4.16</td>\n      <td>4.56</td>\n      <td>4.79</td>\n      <td>4.91</td>\n      <td>4.95</td>\n      <td>4.56</td>\n      <td>3.96</td>\n      <td>3.76</td>\n      <td>3.54</td>\n      <td>3.53</td>\n      <td>3.48</td>\n      <td>3.83</td>\n      <td>3.68</td>\n      <td>21.799999</td>\n    </tr>\n    <tr>\n      <th>6</th>\n      <td>2023-03-21</td>\n      <td>4.07</td>\n      <td>4.50</td>\n      <td>4.78</td>\n      <td>4.89</td>\n      <td>4.96</td>\n      <td>4.68</td>\n      <td>4.17</td>\n      <td>3.98</td>\n      <td>3.73</td>\n      <td>3.68</td>\n      <td>3.59</td>\n      <td>3.90</td>\n      <td>3.73</td>\n      <td>24.160000</td>\n    </tr>\n    <tr>\n      <th>7</th>\n      <td>2023-03-20</td>\n      <td>4.34</td>\n      <td>4.56</td>\n      <td>4.81</td>\n      <td>4.84</td>\n      <td>4.80</td>\n      <td>4.34</td>\n      <td>3.92</td>\n      <td>3.77</td>\n      <td>3.56</td>\n      <td>3.55</td>\n      <td>3.47</td>\n      <td>3.83</td>\n      <td>3.65</td>\n      <td>27.770000</td>\n    </tr>\n    <tr>\n      <th>8</th>\n      <td>2023-03-17</td>\n      <td>4.31</td>\n      <td>4.51</td>\n      <td>4.52</td>\n      <td>4.79</td>\n      <td>4.71</td>\n      <td>4.26</td>\n      <td>3.81</td>\n      <td>3.68</td>\n      <td>3.44</td>\n      <td>3.45</td>\n      <td>3.39</td>\n      <td>3.76</td>\n      <td>3.60</td>\n      <td>22.920000</td>\n    </tr>\n    <tr>\n      <th>9</th>\n      <td>2023-03-16</td>\n      <td>4.22</td>\n      <td>4.66</td>\n      <td>4.74</td>\n      <td>4.92</td>\n      <td>4.94</td>\n      <td>4.49</td>\n      <td>4.14</td>\n      <td>3.99</td>\n      <td>3.72</td>\n      <td>3.67</td>\n      <td>3.56</td>\n      <td>3.87</td>\n      <td>3.71</td>\n      <td>26.190001</td>\n    </tr>\n  </tbody>\n</table>\n</div>"
     },
     "execution_count": 3,
     "metadata": {},
     "output_type": "execute_result"
    }
   ],
   "source": [
    "# build your set of features here.\n",
    "# merge them by date to add to this dataframe.\n",
    "features = pd.read_csv('daily-treasury-rates.csv')\n",
    "features['Date'] = pd.to_datetime(features['Date'])\n",
    "\n",
    "vix = pd.read_csv('^VIX.csv')[['Date', 'Open']]\n",
    "vix['Date'] = pd.to_datetime(vix['Date'])\n",
    "\n",
    "features = features.merge(vix, on='Date')\n",
    "features.head(10)"
   ]
  },
  {
   "cell_type": "code",
   "execution_count": 14,
   "metadata": {
    "collapsed": false
   },
   "outputs": [
    {
     "name": "stdout",
     "output_type": "stream",
     "text": [
      "    1 Mo  2 Mo  3 Mo  4 Mo  6 Mo  1 Yr  2 Yr  3 Yr  5 Yr  7 Yr  10 Yr  20 Yr   \n",
      "0   4.34  4.50  4.80  4.91  4.92  4.59  4.08  3.87  3.67  3.62   3.57   3.91  \\\n",
      "1   4.24  4.39  4.80  4.86  4.90  4.55  4.02  3.84  3.63  3.60   3.55   3.90   \n",
      "2   4.22  4.47  4.91  4.90  4.86  4.51  3.94  3.79  3.59  3.57   3.53   3.90   \n",
      "3   4.28  4.48  4.74  4.78  4.76  4.32  3.76  3.58  3.41  3.40   3.38   3.77   \n",
      "4   4.26  4.48  4.73  4.84  4.80  4.38  3.76  3.57  3.39  3.39   3.38   3.78   \n",
      "5   4.16  4.56  4.79  4.91  4.95  4.56  3.96  3.76  3.54  3.53   3.48   3.83   \n",
      "6   4.07  4.50  4.78  4.89  4.96  4.68  4.17  3.98  3.73  3.68   3.59   3.90   \n",
      "7   4.34  4.56  4.81  4.84  4.80  4.34  3.92  3.77  3.56  3.55   3.47   3.83   \n",
      "8   4.31  4.51  4.52  4.79  4.71  4.26  3.81  3.68  3.44  3.45   3.39   3.76   \n",
      "9   4.22  4.66  4.74  4.92  4.94  4.49  4.14  3.99  3.72  3.67   3.56   3.87   \n",
      "10  4.23  4.56  4.75  4.85  4.73  4.19  3.93  3.83  3.59  3.57   3.51   3.82   \n",
      "11  4.47  4.77  4.88  4.95  4.93  4.45  4.20  4.05  3.78  3.74   3.64   3.91   \n",
      "12  4.62  4.81  4.87  4.87  4.81  4.30  4.03  3.88  3.68  3.65   3.55   3.85   \n",
      "13  4.81  4.91  5.01  5.08  5.17  4.90  4.60  4.31  3.96  3.86   3.70   3.90   \n",
      "14  4.83  4.96  5.05  5.19  5.32  5.18  4.90  4.56  4.22  4.10   3.93   4.09   \n",
      "15  4.77  4.88  5.06  5.21  5.34  5.25  5.05  4.71  4.34  4.19   3.98   4.11   \n",
      "16  4.80  4.88  5.04  5.12  5.32  5.22  5.00  4.66  4.31  4.17   3.97   4.11   \n",
      "17  4.75  4.79  4.93  5.02  5.22  5.05  4.89  4.61  4.27  4.16   3.98   4.14   \n",
      "18  4.75  4.79  4.91  5.01  5.18  5.03  4.86  4.60  4.26  4.15   3.97   4.12   \n",
      "19  4.75  4.80  4.91  5.02  5.18  5.04  4.89  4.63  4.32  4.24   4.08   4.24   \n",
      "\n",
      "    30 Yr       Open  \n",
      "0    3.78  19.389999  \n",
      "1    3.77  20.530001  \n",
      "2    3.77  22.049999  \n",
      "3    3.64  22.110001  \n",
      "4    3.66  21.540001  \n",
      "5    3.68  21.799999  \n",
      "6    3.73  24.160000  \n",
      "7    3.65  27.770000  \n",
      "8    3.60  22.920000  \n",
      "9    3.71  26.190001  \n",
      "10   3.70  23.209999  \n",
      "11   3.77  26.850000  \n",
      "12   3.70  24.049999  \n",
      "13   3.70  23.340000  \n",
      "14   3.88  19.330000  \n",
      "15   3.88  19.709999  \n",
      "16   3.88  18.639999  \n",
      "17   3.92  19.049999  \n",
      "18   3.90  19.760000  \n",
      "19   4.03  21.410000  \n",
      "    1 Mo  2 Mo  3 Mo  4 Mo  6 Mo  1 Yr  2 Yr  3 Yr  5 Yr  7 Yr  10 Yr  20 Yr   \n",
      "20  4.67  4.82  4.90  5.02  5.20  5.06  4.89  4.61  4.27  4.17   4.01   4.17  \\\n",
      "21  4.65  4.81  4.88  5.00  5.17  5.02  4.81  4.51  4.18  4.07   3.92   4.10   \n",
      "\n",
      "    30 Yr       Open  \n",
      "20   3.97  20.389999  \n",
      "21   3.93  21.299999  \n",
      "[b'1' b'0' b'0' b'0' b'0' b'0' b'0' b'0' b'0' b'0' b'0' b'0' b'-1' b'-1'\n",
      " b'-1' b'-1' b'0' b'1' b'1' b'1']\n"
     ]
    }
   ],
   "source": [
    "import numpy as np\n",
    "from sklearn.linear_model import Perceptron\n",
    "from sklearn.preprocessing import StandardScaler\n",
    "\n",
    "# Make a training set and let's try it out on two upcoming trades.\n",
    "# Choose a subset of data:\n",
    "X = features.drop('Date', axis=1).head(20)\n",
    "x_test = features.drop('Date', axis=1).iloc[[20, 21]]\n",
    "y = np.asarray(ledger.success.head(20), dtype=\"|S6\")\n",
    "\n",
    "print(X)\n",
    "print(x_test)\n",
    "print(y)"
   ]
  },
  {
   "cell_type": "code",
   "execution_count": 15,
   "metadata": {
    "collapsed": false
   },
   "outputs": [
    {
     "name": "stdout",
     "output_type": "stream",
     "text": [
      "[[-0.46897463 -0.9298208  -0.39682656 -0.31145449 -0.3416057  -0.21722355\n",
      "  -0.4751554  -0.54707139 -0.45550724 -0.50698712 -0.39819284 -0.19354466\n",
      "   0.11326837 -1.08358718]\n",
      " [-0.85655698 -1.55730723 -0.39682656 -0.72126302 -0.43920732 -0.33385365\n",
      "  -0.60744925 -0.62394325 -0.57657229 -0.57715834 -0.48619126 -0.26522786\n",
      "   0.02265367 -0.64249052]\n",
      " [-0.93407345 -1.10095347  0.45076415 -0.39341619 -0.63441058 -0.45048375\n",
      "  -0.78384105 -0.75206302 -0.69763734 -0.68241518 -0.57418968 -0.26522786\n",
      "   0.02265367 -0.05436344]\n",
      " [-0.70152404 -1.04390924 -0.85914876 -1.37695667 -1.12241871 -1.00447671\n",
      "  -1.18072259 -1.29016603 -1.24243006 -1.27887061 -1.23417781 -1.19710955\n",
      "  -1.15533739 -0.0311471 ]\n",
      " [-0.77904051 -1.04390924 -0.93620246 -0.88518643 -0.92721546 -0.82953156\n",
      "  -1.18072259 -1.31578998 -1.30296258 -1.31395623 -1.23417781 -1.12542634\n",
      "  -0.97410799 -0.25169504]\n",
      " [-1.16662285 -0.58755548 -0.47388026 -0.31145449 -0.19520325 -0.30469613\n",
      "  -0.7397431  -0.82893488 -0.84896865 -0.82275764 -0.79418572 -0.76701031\n",
      "  -0.7928786  -0.151095  ]\n",
      " [-1.51544696 -0.9298208  -0.55093396 -0.4753779  -0.14640244  0.04519416\n",
      "  -0.27671463 -0.26520791 -0.27390967 -0.29647343 -0.31019442 -0.26522786\n",
      "  -0.33980511  0.76205126]\n",
      " [-0.46897463 -0.58755548 -0.31977286 -0.88518643 -0.92721546 -0.94616166\n",
      "  -0.82793899 -0.80331092 -0.78843613 -0.75258641 -0.83818493 -0.76701031\n",
      "  -1.06472269  2.1588549 ]\n",
      " [-0.58524934 -0.87277658 -2.55433016 -1.29499496 -1.36642278 -1.17942185\n",
      "  -1.07047771 -1.0339265  -1.15163127 -1.10344255 -1.1901786  -1.26879275\n",
      "  -1.51779617  0.28226275]\n",
      " [-0.93407345 -0.01711327 -0.85914876 -0.22949278 -0.24400407 -0.5087988\n",
      "  -0.34286155 -0.23958396 -0.30417593 -0.33155905 -0.44219205 -0.48027748\n",
      "  -0.52103451  1.54751187]\n",
      " [-0.89531521 -0.58755548 -0.78209506 -0.80322472 -1.26882115 -1.38352452\n",
      "  -0.80589002 -0.64956721 -0.69763734 -0.68241518 -0.66218809 -0.83869352\n",
      "  -0.6116492   0.39447097]\n",
      " [ 0.03488241  0.61037316  0.21960305  0.01639234 -0.29280488 -0.62542889\n",
      "  -0.21056771 -0.08584024 -0.12257836 -0.08595975 -0.09019838 -0.19354466\n",
      "   0.02265367  1.80288278]\n",
      " [ 0.61625592  0.83855005  0.14254935 -0.63930131 -0.87841465 -1.06279175\n",
      "  -0.58540027 -0.52144744 -0.42524098 -0.40173028 -0.48619126 -0.6236439\n",
      "  -0.6116492   0.71948899]\n",
      " [ 1.35266238  1.40899226  1.22130115  1.08189453  0.87841465  0.68665969\n",
      "   0.67139128  0.58038253  0.42221436  0.33506761  0.17379688 -0.26522786\n",
      "  -0.6116492   0.44477176]\n",
      " [ 1.43017884  1.69421336  1.52951595  1.9834733   1.61042685  1.50307037\n",
      "   1.33286051  1.22098136  1.20913717  1.17712234  1.18577868  1.09675306\n",
      "   1.01941534 -1.10680237]\n",
      " [ 1.19762944  1.2378596   1.60656965  2.14739671  1.70802848  1.70717304\n",
      "   1.66359513  1.60534065  1.57233231  1.49289286  1.40577472  1.24011947\n",
      "   1.01941534 -0.95977079]\n",
      " [ 1.31390414  1.2378596   1.45246225  1.40974135  1.61042685  1.61970046\n",
      "   1.55335026  1.47722088  1.48153353  1.42272163  1.36177552  1.24011947\n",
      "   1.01941534 -1.37378184]\n",
      " [ 1.12011297  0.72446161  0.60487155  0.59012429  1.12241871  1.12402255\n",
      "   1.31081154  1.34910112  1.36046848  1.38763602  1.40577472  1.45516909\n",
      "   1.38187413 -1.21514209]\n",
      " [ 1.12011297  0.72446161  0.45076415  0.50816258  0.92721546  1.06570751\n",
      "   1.24466461  1.32347717  1.33020222  1.3525504   1.36177552  1.31180268\n",
      "   1.20064473 -0.94042409]\n",
      " [ 1.12011297  0.78150583  0.45076415  0.59012429  0.92721546  1.09486503\n",
      "   1.31081154  1.40034903  1.51179979  1.66832093  1.84576681  2.17200116\n",
      "   2.37863579 -0.30199583]]\n"
     ]
    }
   ],
   "source": [
    "sc = StandardScaler()\n",
    "\n",
    "sc.fit(X)\n",
    "X_std = sc.transform(X)\n",
    "x_test_std = sc.transform(x_test)\n",
    "\n",
    "print(X_std)\n"
   ]
  },
  {
   "cell_type": "code",
   "execution_count": 16,
   "metadata": {
    "collapsed": false
   },
   "outputs": [
    {
     "name": "stdout",
     "output_type": "stream",
     "text": [
      "[b'1' b'1']\n"
     ]
    }
   ],
   "source": [
    "ppn = Perceptron(eta0=0.1)\n",
    "ppn.fit(X_std, y)\n",
    "\n",
    "y_pred = ppn.predict(x_test_std)\n",
    "print(y_pred)"
   ]
  },
  {
   "cell_type": "code",
   "execution_count": 18,
   "metadata": {
    "collapsed": false
   },
   "outputs": [
    {
     "name": "stdout",
     "output_type": "stream",
     "text": [
      "   trade_id asset   dt_enter    dt_exit success  n  rtn\n",
      "20       21   IVV 2020-02-03 2020-02-05       0  3  0.0\n",
      "21       22   IVV 2020-02-04 2020-02-06       0  3  0.0\n"
     ]
    }
   ],
   "source": [
    "print(ledger.iloc[[20, 21]])"
   ]
  },
  {
   "cell_type": "code",
   "execution_count": null,
   "metadata": {
    "collapsed": false
   },
   "outputs": [],
   "source": []
  }
 ],
 "metadata": {
  "kernelspec": {
   "display_name": "Python 3",
   "language": "python",
   "name": "python3"
  },
  "language_info": {
   "codemirror_mode": {
    "name": "ipython",
    "version": 3
   },
   "file_extension": ".py",
   "mimetype": "text/x-python",
   "name": "python",
   "nbconvert_exporter": "python",
   "pygments_lexer": "ipython3",
   "version": "3.9.7"
  }
 },
 "nbformat": 4,
 "nbformat_minor": 0
}